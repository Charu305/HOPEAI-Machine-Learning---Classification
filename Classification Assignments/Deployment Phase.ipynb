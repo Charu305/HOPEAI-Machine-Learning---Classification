{
 "cells": [
  {
   "cell_type": "code",
   "execution_count": 5,
   "id": "e4b18fe4-454d-4ddf-a865-a42f20dcf4bd",
   "metadata": {},
   "outputs": [],
   "source": [
    "import pickle \n",
    "filename='Scaler.sav'\n",
    "scaler=pickle.load(open(filename,'rb'))"
   ]
  },
  {
   "cell_type": "code",
   "execution_count": 2,
   "id": "5e8a2a21-1ad0-430d-9a84-c08b7ebda5cf",
   "metadata": {},
   "outputs": [],
   "source": [
    "filename='Finalized model.sav'\n",
    "model=pickle.load(open(filename,'rb'))"
   ]
  },
  {
   "cell_type": "markdown",
   "id": "87165630-8ad1-4f88-bb75-4f4bd7d52219",
   "metadata": {
    "jp-MarkdownHeadingCollapsed": true
   },
   "source": [
    "ge = int(input(\"Enter Age: \"))\n",
    "bp = int(input(\"Enter Blood Pressure: \"))\n",
    "al = int(input(\"Enter Albumin: \"))\n",
    "su = int(input(\"Enter Sugar: \"))\n",
    "bgr = int(input(\"Enter Blood Glucose Random: \"))\n",
    "bu = int(input(\"Enter Blood Urea: \"))\n",
    "sc = int(input(\"Enter Serum Creatinine: \"))\n",
    "sod = int(input(\"Enter Sodium: \"))\n",
    "pot = int(input(\"Enter Potassium: \"))\n",
    "hrmo = int(input(\"Enter Hemoglobin (or hormone if defined that way): \"))\n",
    "pcv = int(input(\"Enter Packed Cell Volume: \"))\n",
    "wc = int(input(\"Enter White Blood Cell count: \"))\n",
    "rc = int(input(\"Enter Red Blood Cell count: \"))\n",
    "\n",
    "sg_b = int(input(\"Specific Gravity (sg_b) 0 or 1: \"))\n",
    "sg_c = int(input(\"Specific Gravity (sg_c) 0 or 1: \"))\n",
    "sg_d = int(input(\"Specific Gravity (sg_d) 0 or 1: \"))\n",
    "sg_e = int(input(\"Specific Gravity (sg_e) 0 or 1: \"))\n",
    "\n",
    "rbc_normal = int(input(\"RBC Normal (0 = abnormal, 1 = normal): \"))\n",
    "pc_normal = int(input(\"Pus Cell Normal (0 = abnormal, 1 = normal): \"))\n",
    "pcc_present = int(input(\"Pus Cell Clumps Present (0 = no, 1 = yes): \"))\n",
    "ba_present = int(input(\"Bacteria Present (0 = no, 1 = yes): \"))\n",
    "\n",
    "htn_yes = int(input(\"Hypertension (0 = no, 1 = yes): \"))\n",
    "dm_yes = int(input(\"Diabetes Mellitus (0 = no, 1 = yes): \"))\n",
    "cad_yes = int(input(\"Coronary Artery Disease (0 = no, 1 = yes): \"))\n",
    "appet_yes = int(input(\"Appetite (0 = good, 1 = poor): \"))\n",
    "pe_yes = int(input(\"Pedal Edema (0 = no, 1 = yes): \"))\n",
    "ane_yes = int(input(\"Anemia (0 = no, 1 = yes): \"))"
   ]
  },
  {
   "cell_type": "code",
   "execution_count": 3,
   "id": "a342ccf9-bff9-4e87-b831-30671f33ba7b",
   "metadata": {},
   "outputs": [
    {
     "name": "stdin",
     "output_type": "stream",
     "text": [
      "Enter Age:  25\n",
      "Enter Blood Pressure:  80\n",
      "Enter Albumin:  2\n",
      "Enter Sugar:  0\n",
      "Enter Blood Glucose Random:  150\n",
      "Enter Blood Urea:  54\n",
      "Enter Serum Creatinine:  1.2\n",
      "Enter Sodium:  137\n",
      "Enter Potassium:  4.5\n",
      "Enter Hemoglobin (or hormone if defined that way):  13\n",
      "Enter Packed Cell Volume:  44\n",
      "Enter White Blood Cell count:  7800\n",
      "Enter Red Blood Cell count:  4.9\n",
      "Specific Gravity (sg_b) 0 or 1:  0\n",
      "Specific Gravity (sg_c) 0 or 1:  1\n",
      "Specific Gravity (sg_d) 0 or 1:  0\n",
      "Specific Gravity (sg_e) 0 or 1:  0\n",
      "RBC Normal (0 = abnormal, 1 = normal):  1\n",
      "Pus Cell Normal (0 = abnormal, 1 = normal):  1\n",
      "Pus Cell Clumps Present (0 = no, 1 = yes):  0\n",
      "Bacteria Present (0 = no, 1 = yes):  0\n",
      "Hypertension (0 = no, 1 = yes):  0\n",
      "Diabetes Mellitus (0 = no, 1 = yes):  0\n",
      "Coronary Artery Disease (0 = no, 1 = yes):  0\n",
      "Appetite (0 = good, 1 = poor):  0\n",
      "Pedal Edema (0 = no, 1 = yes):  0\n",
      "Anemia (0 = no, 1 = yes):  0\n"
     ]
    }
   ],
   "source": [
    "import numpy as np\n",
    "\n",
    "# Collect user inputs\n",
    "age = float(input(\"Enter Age: \"))\n",
    "bp = float(input(\"Enter Blood Pressure: \"))\n",
    "al = float(input(\"Enter Albumin: \"))\n",
    "su = float(input(\"Enter Sugar: \"))\n",
    "bgr = float(input(\"Enter Blood Glucose Random: \"))\n",
    "bu = float(input(\"Enter Blood Urea: \"))\n",
    "sc = float(input(\"Enter Serum Creatinine: \"))\n",
    "sod = float(input(\"Enter Sodium: \"))\n",
    "pot = float(input(\"Enter Potassium: \"))\n",
    "hrmo = float(input(\"Enter Hemoglobin (or hormone if defined that way): \"))\n",
    "pcv = float(input(\"Enter Packed Cell Volume: \"))\n",
    "wc = float(input(\"Enter White Blood Cell count: \"))\n",
    "rc = float(input(\"Enter Red Blood Cell count: \"))\n",
    "\n",
    "# One-hot / binary categorical features\n",
    "sg_b = int(input(\"Specific Gravity (sg_b) 0 or 1: \"))\n",
    "sg_c = int(input(\"Specific Gravity (sg_c) 0 or 1: \"))\n",
    "sg_d = int(input(\"Specific Gravity (sg_d) 0 or 1: \"))\n",
    "sg_e = int(input(\"Specific Gravity (sg_e) 0 or 1: \"))\n",
    "rbc_normal = int(input(\"RBC Normal (0 = abnormal, 1 = normal): \"))\n",
    "pc_normal = int(input(\"Pus Cell Normal (0 = abnormal, 1 = normal): \"))\n",
    "pcc_present = int(input(\"Pus Cell Clumps Present (0 = no, 1 = yes): \"))\n",
    "ba_present = int(input(\"Bacteria Present (0 = no, 1 = yes): \"))\n",
    "htn_yes = int(input(\"Hypertension (0 = no, 1 = yes): \"))\n",
    "dm_yes = int(input(\"Diabetes Mellitus (0 = no, 1 = yes): \"))\n",
    "cad_yes = int(input(\"Coronary Artery Disease (0 = no, 1 = yes): \"))\n",
    "appet_yes = int(input(\"Appetite (0 = good, 1 = poor): \"))\n",
    "pe_yes = int(input(\"Pedal Edema (0 = no, 1 = yes): \"))\n",
    "ane_yes = int(input(\"Anemia (0 = no, 1 = yes): \"))\n",
    "\n",
    "# Put all into the right order (matching indep feature list)\n",
    "user_input = np.array([[\n",
    "    age, bp, al, su, bgr, bu, sc, sod, pot, hrmo, pcv, wc, rc,\n",
    "    sg_b, sg_c, sg_d, sg_e,\n",
    "    rbc_normal, pc_normal, pcc_present, ba_present,\n",
    "    htn_yes, dm_yes, cad_yes,\n",
    "    appet_yes, pe_yes, ane_yes\n",
    "]])"
   ]
  },
  {
   "cell_type": "code",
   "execution_count": 8,
   "id": "f8510f41-dc4c-4485-b2e6-748477931cef",
   "metadata": {},
   "outputs": [
    {
     "name": "stdout",
     "output_type": "stream",
     "text": [
      "[[-1.65705626  0.26080096  0.94028379 -0.36409637  0.00515541 -0.11625395\n",
      "  -0.33730023 -0.05438121 -0.03407625  0.19463874  0.6154954  -0.21525278\n",
      "   0.27537502 -0.49294082  1.83320914 -0.45124263 -0.13840913  0.38924947\n",
      "   0.51055216 -0.34299717 -0.23570226 -0.73926425 -0.73926425 -0.29277002\n",
      "  -1.93649167 -0.52223297 -0.44519456]]\n"
     ]
    },
    {
     "name": "stderr",
     "output_type": "stream",
     "text": [
      "C:\\Users\\babuk\\anaconda3\\envs\\aiml\\Lib\\site-packages\\sklearn\\utils\\validation.py:2749: UserWarning: X does not have valid feature names, but StandardScaler was fitted with feature names\n",
      "  warnings.warn(\n"
     ]
    }
   ],
   "source": [
    "# Scale using the scaler fitted during training\n",
    "user_input_scaled = scaler.transform(user_input)\n",
    "\n",
    "print(user_input_scaled)"
   ]
  },
  {
   "cell_type": "code",
   "execution_count": 9,
   "id": "3b749d26-5e5d-4de4-93b5-9fcb99ef4845",
   "metadata": {},
   "outputs": [
    {
     "name": "stdout",
     "output_type": "stream",
     "text": [
      "Prediction: [1]\n"
     ]
    }
   ],
   "source": [
    "prediction = model.predict(user_input_scaled)\n",
    "print(\"Prediction:\", prediction)"
   ]
  },
  {
   "cell_type": "code",
   "execution_count": null,
   "id": "c1319283-eeca-4b5c-bbd1-5ab1a379ffc1",
   "metadata": {},
   "outputs": [],
   "source": []
  }
 ],
 "metadata": {
  "kernelspec": {
   "display_name": "Python 3 (ipykernel)",
   "language": "python",
   "name": "python3"
  },
  "language_info": {
   "codemirror_mode": {
    "name": "ipython",
    "version": 3
   },
   "file_extension": ".py",
   "mimetype": "text/x-python",
   "name": "python",
   "nbconvert_exporter": "python",
   "pygments_lexer": "ipython3",
   "version": "3.12.4"
  }
 },
 "nbformat": 4,
 "nbformat_minor": 5
}
